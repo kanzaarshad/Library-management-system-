{
  "nbformat": 4,
  "nbformat_minor": 0,
  "metadata": {
    "colab": {
      "provenance": []
    },
    "kernelspec": {
      "name": "python3",
      "display_name": "Python 3"
    },
    "language_info": {
      "name": "python"
    }
  },
  "cells": [
    {
      "cell_type": "code",
      "execution_count": 2,
      "metadata": {
        "colab": {
          "base_uri": "https://localhost:8080/"
        },
        "id": "7JkYEtNAkN8k",
        "outputId": "25876ae9-fe34-4714-cdce-8545636b1520"
      },
      "outputs": [
        {
          "output_type": "stream",
          "name": "stdout",
          "text": [
            "Books available in the library:\n",
            "Title: The Great Gatsby, Author: F. Scott Fitzgerald, ISBN: 9780743273565, Available: Yes\n",
            "Title: To Kill a Mockingbird, Author: Harper Lee, ISBN: 9780061120084, Available: Yes\n",
            "You have borrowed 'To Kill a Mockingbird'. Enjoy reading!\n",
            "Books available in the library:\n",
            "Title: The Great Gatsby, Author: F. Scott Fitzgerald, ISBN: 9780743273565, Available: Yes\n",
            "Title: To Kill a Mockingbird, Author: Harper Lee, ISBN: 9780061120084, Available: No\n",
            "Thank you for returning 'To Kill a Mockingbird'.\n",
            "Books available in the library:\n",
            "Title: The Great Gatsby, Author: F. Scott Fitzgerald, ISBN: 9780743273565, Available: Yes\n",
            "Title: To Kill a Mockingbird, Author: Harper Lee, ISBN: 9780061120084, Available: Yes\n"
          ]
        }
      ],
      "source": [
        "class Book:\n",
        "    def __init__(self, title, author, isbn):\n",
        "        self.title = title\n",
        "        self.author = author\n",
        "        self.isbn = isbn\n",
        "        self.available = True\n",
        "\n",
        "class Library:\n",
        "    def __init__(self):\n",
        "        self.books = []\n",
        "\n",
        "    def add_book(self, book):\n",
        "        self.books.append(book)\n",
        "\n",
        "    def display_books(self):\n",
        "        if not self.books:\n",
        "            print(\"No books available in the library.\")\n",
        "            return\n",
        "        print(\"Books available in the library:\")\n",
        "        for book in self.books:\n",
        "            print(f\"Title: {book.title}, Author: {book.author}, ISBN: {book.isbn}, Available: {'Yes' if book.available else 'No'}\")\n",
        "\n",
        "    def find_book(self, title):\n",
        "        for book in self.books:\n",
        "            if book.title.lower() == title.lower():\n",
        "                return book\n",
        "        return None\n",
        "\n",
        "    def borrow_book(self, title):\n",
        "        book = self.find_book(title)\n",
        "        if book:\n",
        "            if book.available:\n",
        "                book.available = False\n",
        "                print(f\"You have borrowed '{book.title}'. Enjoy reading!\")\n",
        "            else:\n",
        "                print(f\"'{book.title}' is currently not available.\")\n",
        "        else:\n",
        "            print(\"Book not found in the library.\")\n",
        "\n",
        "    def return_book(self, title):\n",
        "        book = self.find_book(title)\n",
        "        if book:\n",
        "            if not book.available:\n",
        "                book.available = True\n",
        "                print(f\"Thank you for returning '{book.title}'.\")\n",
        "            else:\n",
        "                print(\"This book is already in the library.\")\n",
        "        else:\n",
        "            print(\"Book not found in the library.\")\n",
        "\n",
        "# Example usage\n",
        "library = Library()\n",
        "\n",
        "# Adding books\n",
        "book1 = Book(\"The Great Gatsby\", \"F. Scott Fitzgerald\", \"9780743273565\")\n",
        "book2 = Book(\"To Kill a Mockingbird\", \"Harper Lee\", \"9780061120084\")\n",
        "library.add_book(book1)\n",
        "library.add_book(book2)\n",
        "\n",
        "# Displaying books\n",
        "library.display_books()\n",
        "\n",
        "# Borrowing a book\n",
        "library.borrow_book(\"To Kill a Mockingbird\")\n",
        "library.display_books()\n",
        "\n",
        "# Returning a book\n",
        "library.return_book(\"To Kill a Mockingbird\")\n",
        "library.display_books()\n"
      ]
    }
  ]
}